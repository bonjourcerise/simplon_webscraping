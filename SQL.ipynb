{
 "cells": [
  {
   "cell_type": "markdown",
   "id": "ba8f2faf",
   "metadata": {},
   "source": [
    "# 🎬 MOVIES IN SQL"
   ]
  },
  {
   "cell_type": "code",
   "execution_count": 58,
   "id": "44dc465b",
   "metadata": {},
   "outputs": [],
   "source": [
    "import pandas as pd\n",
    "import numpy as np\n",
    "from sqlalchemy import create_engine"
   ]
  },
  {
   "cell_type": "code",
   "execution_count": 59,
   "id": "d1b059e6",
   "metadata": {},
   "outputs": [],
   "source": [
    "df = pd.read_csv(\"data/data.csv\")"
   ]
  },
  {
   "cell_type": "code",
   "execution_count": 63,
   "id": "2f20a7a7",
   "metadata": {},
   "outputs": [
    {
     "data": {
      "text/plain": [
       "<sqlalchemy.engine.base.Connection at 0x2697fc29160>"
      ]
     },
     "execution_count": 63,
     "metadata": {},
     "output_type": "execute_result"
    }
   ],
   "source": [
    "# database connection\n",
    "hostname=\"127.0.0.1\"\n",
    "dbname=\"hello_movies\"\n",
    "uname=\"root\"\n",
    "pwd=\"pixel\"\n",
    "\n",
    "# create SQLAlchemy engine to connect to MySQL Database\n",
    "engine = create_engine(\"mysql+pymysql://{user}:{pw}@{host}/{db}\".format(host=hostname, db=dbname, user=uname, pw=pwd))\n",
    "\n",
    "# connect to the database\n",
    "engine.connect() "
   ]
  },
  {
   "cell_type": "code",
   "execution_count": 64,
   "id": "f04b78f5",
   "metadata": {},
   "outputs": [],
   "source": [
    "# upload dataframe in SQL base\n",
    "df.to_sql('hello_movies', engine, index=False)"
   ]
  },
  {
   "cell_type": "code",
   "execution_count": 55,
   "id": "55ef3953",
   "metadata": {},
   "outputs": [],
   "source": [
    "# connect to MySQL\n",
    "connection = engine.connect()"
   ]
  },
  {
   "cell_type": "code",
   "execution_count": null,
   "id": "6cabcaf9",
   "metadata": {},
   "outputs": [],
   "source": [
    "# replace some values\n",
    "sql1 = pd.read_sql(\n",
    "    \"REPLACE INTO hellomovies.hellomovies (title, year_of_release, duration_in_minutes, genre) VALUES ('Coco', 2017, 105, 'Animation, Adventure, Comedy');\", con=connection)"
   ]
  },
  {
   "cell_type": "code",
   "execution_count": 80,
   "id": "eca3b758",
   "metadata": {},
   "outputs": [
    {
     "data": {
      "text/html": [
       "<div>\n",
       "<style scoped>\n",
       "    .dataframe tbody tr th:only-of-type {\n",
       "        vertical-align: middle;\n",
       "    }\n",
       "\n",
       "    .dataframe tbody tr th {\n",
       "        vertical-align: top;\n",
       "    }\n",
       "\n",
       "    .dataframe thead th {\n",
       "        text-align: right;\n",
       "    }\n",
       "</style>\n",
       "<table border=\"1\" class=\"dataframe\">\n",
       "  <thead>\n",
       "    <tr style=\"text-align: right;\">\n",
       "      <th></th>\n",
       "      <th>year_of_release</th>\n",
       "      <th>Count</th>\n",
       "    </tr>\n",
       "  </thead>\n",
       "  <tbody>\n",
       "    <tr>\n",
       "      <th>0</th>\n",
       "      <td>1994</td>\n",
       "      <td>6</td>\n",
       "    </tr>\n",
       "    <tr>\n",
       "      <th>1</th>\n",
       "      <td>1972</td>\n",
       "      <td>1</td>\n",
       "    </tr>\n",
       "    <tr>\n",
       "      <th>2</th>\n",
       "      <td>2008</td>\n",
       "      <td>3</td>\n",
       "    </tr>\n",
       "    <tr>\n",
       "      <th>3</th>\n",
       "      <td>1974</td>\n",
       "      <td>2</td>\n",
       "    </tr>\n",
       "    <tr>\n",
       "      <th>4</th>\n",
       "      <td>1957</td>\n",
       "      <td>7</td>\n",
       "    </tr>\n",
       "    <tr>\n",
       "      <th>...</th>\n",
       "      <td>...</td>\n",
       "      <td>...</td>\n",
       "    </tr>\n",
       "    <tr>\n",
       "      <th>81</th>\n",
       "      <td>1949</td>\n",
       "      <td>1</td>\n",
       "    </tr>\n",
       "    <tr>\n",
       "      <th>82</th>\n",
       "      <td>1939</td>\n",
       "      <td>2</td>\n",
       "    </tr>\n",
       "    <tr>\n",
       "      <th>83</th>\n",
       "      <td>1934</td>\n",
       "      <td>1</td>\n",
       "    </tr>\n",
       "    <tr>\n",
       "      <th>84</th>\n",
       "      <td>1928</td>\n",
       "      <td>1</td>\n",
       "    </tr>\n",
       "    <tr>\n",
       "      <th>85</th>\n",
       "      <td>1926</td>\n",
       "      <td>1</td>\n",
       "    </tr>\n",
       "  </tbody>\n",
       "</table>\n",
       "<p>86 rows × 2 columns</p>\n",
       "</div>"
      ],
      "text/plain": [
       "    year_of_release  Count\n",
       "0              1994      6\n",
       "1              1972      1\n",
       "2              2008      3\n",
       "3              1974      2\n",
       "4              1957      7\n",
       "..              ...    ...\n",
       "81             1949      1\n",
       "82             1939      2\n",
       "83             1934      1\n",
       "84             1928      1\n",
       "85             1926      1\n",
       "\n",
       "[86 rows x 2 columns]"
      ]
     },
     "execution_count": 80,
     "metadata": {},
     "output_type": "execute_result"
    }
   ],
   "source": [
    "# check the count of movies by year (1921 > 2021)\n",
    "sql2 = pd.read_sql(\n",
    "    \"SELECT year_of_release, COUNT(title) AS 'Count' FROM hello_movies.hello_movies GROUP BY year_of_release;\", con=connection)\n",
    "sql1"
   ]
  },
  {
   "cell_type": "code",
   "execution_count": 84,
   "id": "645efbfc",
   "metadata": {},
   "outputs": [
    {
     "data": {
      "text/html": [
       "<div>\n",
       "<style scoped>\n",
       "    .dataframe tbody tr th:only-of-type {\n",
       "        vertical-align: middle;\n",
       "    }\n",
       "\n",
       "    .dataframe tbody tr th {\n",
       "        vertical-align: top;\n",
       "    }\n",
       "\n",
       "    .dataframe thead th {\n",
       "        text-align: right;\n",
       "    }\n",
       "</style>\n",
       "<table border=\"1\" class=\"dataframe\">\n",
       "  <thead>\n",
       "    <tr style=\"text-align: right;\">\n",
       "      <th></th>\n",
       "      <th>AVG Audience score RT</th>\n",
       "    </tr>\n",
       "  </thead>\n",
       "  <tbody>\n",
       "    <tr>\n",
       "      <th>0</th>\n",
       "      <td>69.991597</td>\n",
       "    </tr>\n",
       "  </tbody>\n",
       "</table>\n",
       "</div>"
      ],
      "text/plain": [
       "   AVG Audience score RT\n",
       "0              69.991597"
      ]
     },
     "execution_count": 84,
     "metadata": {},
     "output_type": "execute_result"
    }
   ],
   "source": [
    "# average audience score from rotten tomatoes for all 250 movies\n",
    "sql3 = pd.read_sql(\n",
    "    \"SELECT AVG(audience_score_x) AS 'AVG Audience score RT' FROM hello_movies.hello_movies;\", con=connection)\n",
    "sql3"
   ]
  }
 ],
 "metadata": {
  "kernelspec": {
   "display_name": "Python 3",
   "language": "python",
   "name": "python3"
  },
  "language_info": {
   "codemirror_mode": {
    "name": "ipython",
    "version": 3
   },
   "file_extension": ".py",
   "mimetype": "text/x-python",
   "name": "python",
   "nbconvert_exporter": "python",
   "pygments_lexer": "ipython3",
   "version": "3.8.8"
  }
 },
 "nbformat": 4,
 "nbformat_minor": 5
}
