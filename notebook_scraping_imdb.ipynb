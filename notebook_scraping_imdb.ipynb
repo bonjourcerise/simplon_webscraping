{
 "cells": [
  {
   "cell_type": "markdown",
   "id": "bc0b6483",
   "metadata": {
    "heading_collapsed": true
   },
   "source": [
    "# 🔍 Web scraping"
   ]
  },
  {
   "cell_type": "code",
   "execution_count": 113,
   "id": "8ef607a0",
   "metadata": {
    "hidden": true
   },
   "outputs": [],
   "source": [
    "# import\n",
    "import pandas as pd\n",
    "import numpy as np\n",
    "from bs4 import BeautifulSoup\n",
    "import requests"
   ]
  },
  {
   "cell_type": "markdown",
   "id": "4079cbe9",
   "metadata": {
    "heading_collapsed": true
   },
   "source": [
    "# IMDB"
   ]
  },
  {
   "cell_type": "code",
   "execution_count": 85,
   "id": "113936d9",
   "metadata": {
    "hidden": true
   },
   "outputs": [],
   "source": [
    "#make soup with IMDB\n",
    "\n",
    "url = \"https://www.imdb.com/search/title/?groups=top_250&sort=user_rating&count=250\"\n",
    "\n",
    "headers = {\"Accept-Language\": \"en-US,en;q=0.5\"}\n",
    "\n",
    "response = requests.get(url,headers=headers)\n",
    "#response.status_code\n",
    "\n",
    "page_contents = response.text \n",
    "\n",
    "soup = BeautifulSoup(page_contents, 'html.parser')\n",
    "\n",
    "movie = []\n",
    "runtime = []\n",
    "year = []\n",
    "genre = []\n",
    "metascore = []\n",
    "\n",
    "\n",
    "for film in range (0, 250):\n",
    "    movie.append(soup.find_all('div', {'class':'lister-item-content'})[film].a.text)\n",
    "    runtime.append(soup.find_all('span', {'class':'runtime'})[film].text[:-3])\n",
    "    year.append(soup.find_all(\"span\", {\"class\":\"lister-item-year\"})[film].text[1:5])\n",
    "    genre.append(soup.find_all('span', {'class':'genre'})[film].text.strip()) \n",
    "    metascore.append(soup.find_all('div',{'class':'ratings-imdb-rating'})[film].text.strip())\n",
    "\n",
    "    list_of_all = [movie,runtime,year,genre,metascore]"
   ]
  },
  {
   "cell_type": "code",
   "execution_count": 86,
   "id": "dd2e26ce",
   "metadata": {
    "hidden": true
   },
   "outputs": [],
   "source": [
    "# create dataframe\n",
    "df = pd.DataFrame(list_of_all).transpose()\n",
    "\n",
    "# columns's names\n",
    "df.columns=[\"movie\",\"runtime\", \"year\", \"genre\", \"metascore\"]"
   ]
  },
  {
   "cell_type": "code",
   "execution_count": 87,
   "id": "d8df5dfa",
   "metadata": {
    "hidden": true
   },
   "outputs": [
    {
     "data": {
      "text/html": [
       "<div>\n",
       "<style scoped>\n",
       "    .dataframe tbody tr th:only-of-type {\n",
       "        vertical-align: middle;\n",
       "    }\n",
       "\n",
       "    .dataframe tbody tr th {\n",
       "        vertical-align: top;\n",
       "    }\n",
       "\n",
       "    .dataframe thead th {\n",
       "        text-align: right;\n",
       "    }\n",
       "</style>\n",
       "<table border=\"1\" class=\"dataframe\">\n",
       "  <thead>\n",
       "    <tr style=\"text-align: right;\">\n",
       "      <th></th>\n",
       "      <th>movie</th>\n",
       "      <th>runtime</th>\n",
       "      <th>year</th>\n",
       "      <th>genre</th>\n",
       "      <th>metascore</th>\n",
       "    </tr>\n",
       "  </thead>\n",
       "  <tbody>\n",
       "    <tr>\n",
       "      <th>0</th>\n",
       "      <td>The Shawshank Redemption</td>\n",
       "      <td>142</td>\n",
       "      <td>1994</td>\n",
       "      <td>Drama</td>\n",
       "      <td>9.3</td>\n",
       "    </tr>\n",
       "    <tr>\n",
       "      <th>1</th>\n",
       "      <td>The Godfather</td>\n",
       "      <td>175</td>\n",
       "      <td>1972</td>\n",
       "      <td>Crime, Drama</td>\n",
       "      <td>9.2</td>\n",
       "    </tr>\n",
       "    <tr>\n",
       "      <th>2</th>\n",
       "      <td>The Dark Knight</td>\n",
       "      <td>152</td>\n",
       "      <td>2008</td>\n",
       "      <td>Action, Crime, Drama</td>\n",
       "      <td>9.0</td>\n",
       "    </tr>\n",
       "    <tr>\n",
       "      <th>3</th>\n",
       "      <td>The Godfather: Part II</td>\n",
       "      <td>202</td>\n",
       "      <td>1974</td>\n",
       "      <td>Crime, Drama</td>\n",
       "      <td>9.0</td>\n",
       "    </tr>\n",
       "    <tr>\n",
       "      <th>4</th>\n",
       "      <td>12 Angry Men</td>\n",
       "      <td>96</td>\n",
       "      <td>1957</td>\n",
       "      <td>Crime, Drama</td>\n",
       "      <td>9.0</td>\n",
       "    </tr>\n",
       "    <tr>\n",
       "      <th>...</th>\n",
       "      <td>...</td>\n",
       "      <td>...</td>\n",
       "      <td>...</td>\n",
       "      <td>...</td>\n",
       "      <td>...</td>\n",
       "    </tr>\n",
       "    <tr>\n",
       "      <th>245</th>\n",
       "      <td>Mr. Smith Goes to Washington</td>\n",
       "      <td>129</td>\n",
       "      <td>1939</td>\n",
       "      <td>Comedy, Drama</td>\n",
       "      <td>8.1</td>\n",
       "    </tr>\n",
       "    <tr>\n",
       "      <th>246</th>\n",
       "      <td>Gone with the Wind</td>\n",
       "      <td>238</td>\n",
       "      <td>1939</td>\n",
       "      <td>Drama, History, Romance</td>\n",
       "      <td>8.1</td>\n",
       "    </tr>\n",
       "    <tr>\n",
       "      <th>247</th>\n",
       "      <td>It Happened One Night</td>\n",
       "      <td>105</td>\n",
       "      <td>1934</td>\n",
       "      <td>Comedy, Romance</td>\n",
       "      <td>8.1</td>\n",
       "    </tr>\n",
       "    <tr>\n",
       "      <th>248</th>\n",
       "      <td>The Passion of Joan of Arc</td>\n",
       "      <td>114</td>\n",
       "      <td>1928</td>\n",
       "      <td>Biography, Drama, History</td>\n",
       "      <td>8.1</td>\n",
       "    </tr>\n",
       "    <tr>\n",
       "      <th>249</th>\n",
       "      <td>The General</td>\n",
       "      <td>67</td>\n",
       "      <td>1926</td>\n",
       "      <td>Action, Adventure, Comedy</td>\n",
       "      <td>8.1</td>\n",
       "    </tr>\n",
       "  </tbody>\n",
       "</table>\n",
       "<p>250 rows × 5 columns</p>\n",
       "</div>"
      ],
      "text/plain": [
       "                            movie runtime  year                      genre  \\\n",
       "0        The Shawshank Redemption    142   1994                      Drama   \n",
       "1                   The Godfather    175   1972               Crime, Drama   \n",
       "2                 The Dark Knight    152   2008       Action, Crime, Drama   \n",
       "3          The Godfather: Part II    202   1974               Crime, Drama   \n",
       "4                    12 Angry Men     96   1957               Crime, Drama   \n",
       "..                            ...     ...   ...                        ...   \n",
       "245  Mr. Smith Goes to Washington    129   1939              Comedy, Drama   \n",
       "246            Gone with the Wind    238   1939    Drama, History, Romance   \n",
       "247         It Happened One Night    105   1934            Comedy, Romance   \n",
       "248    The Passion of Joan of Arc    114   1928  Biography, Drama, History   \n",
       "249                   The General     67   1926  Action, Adventure, Comedy   \n",
       "\n",
       "    metascore  \n",
       "0         9.3  \n",
       "1         9.2  \n",
       "2         9.0  \n",
       "3         9.0  \n",
       "4         9.0  \n",
       "..        ...  \n",
       "245       8.1  \n",
       "246       8.1  \n",
       "247       8.1  \n",
       "248       8.1  \n",
       "249       8.1  \n",
       "\n",
       "[250 rows x 5 columns]"
      ]
     },
     "execution_count": 87,
     "metadata": {},
     "output_type": "execute_result"
    }
   ],
   "source": [
    "df"
   ]
  },
  {
   "cell_type": "code",
   "execution_count": 88,
   "id": "e829a411",
   "metadata": {
    "hidden": true
   },
   "outputs": [],
   "source": [
    "# export dataframe to CSV\n",
    "df.to_csv(r'data_imdb.csv', index = False)"
   ]
  },
  {
   "cell_type": "markdown",
   "id": "da7f6c45",
   "metadata": {},
   "source": [
    "# ROTTEN TOMATOES"
   ]
  },
  {
   "cell_type": "code",
   "execution_count": null,
   "id": "6579443e",
   "metadata": {},
   "outputs": [],
   "source": [
    "#make soup with ROTTEN TOMATOES\n",
    "\n",
    "url_base = 'https://www.rottentomatoes.com/m/'\n",
    "\n",
    "headers = {\"Accept-Language\": \"en-US,en;q=0.5\"}\n",
    "\n",
    "score_data = []\n",
    "\n",
    "for name in df['name']:\n",
    "    change_name = name.replace(\" \", \"_\").replace(\"The \",\"\")\n",
    "    url = f'{url_base}{change_name}'\n",
    "    data = requests.get(url, headers=headers)\n",
    "    \n",
    "    if data.status_code == 404:\n",
    "        score_list = ['no score', 'no score']\n",
    "        score_data.append(score_list)\n",
    "        \n",
    "    else:\n",
    "        goodsoup = BeautifulSoup(data.text,\"html.parser\")\n",
    "        \n",
    "        audience_score = goodsoup.find(\"score-board\")[\"audiencescore\"]\n",
    "        tomato_score = goodsoup.find(\"score-board\")[\"tomatometerscore\"]\n",
    "        \n",
    "        score_list = [audience_score, tomato_score]\n",
    "        score_data.append(score_list)"
   ]
  },
  {
   "cell_type": "code",
   "execution_count": null,
   "id": "fbabd4b0",
   "metadata": {},
   "outputs": [],
   "source": [
    "# rename index\n",
    "index = [\"audience_score\",\"tomato_score\"]\n",
    "\n",
    "# create dataframe\n",
    "df_score = pd.DataFrame(score_data,columns=index)\n",
    "\n",
    "# view dataframe\n",
    "df_score"
   ]
  },
  {
   "cell_type": "code",
   "execution_count": null,
   "id": "0be55b06",
   "metadata": {},
   "outputs": [],
   "source": [
    "# concatenate 2 dataframes\n",
    "good_df = pd.concat([df, df_score], axis=1, join='inner')"
   ]
  },
  {
   "cell_type": "code",
   "execution_count": null,
   "id": "b0a8dc43",
   "metadata": {},
   "outputs": [],
   "source": [
    "# export dataframe to CSV\n",
    "good_df.to_csv(r'data/data.csv', index = False)"
   ]
  }
 ],
 "metadata": {
  "kernelspec": {
   "display_name": "Python 3",
   "language": "python",
   "name": "python3"
  },
  "language_info": {
   "codemirror_mode": {
    "name": "ipython",
    "version": 3
   },
   "file_extension": ".py",
   "mimetype": "text/x-python",
   "name": "python",
   "nbconvert_exporter": "python",
   "pygments_lexer": "ipython3",
   "version": "3.8.8"
  },
  "toc": {
   "base_numbering": 1,
   "nav_menu": {},
   "number_sections": true,
   "sideBar": true,
   "skip_h1_title": false,
   "title_cell": "Table of Contents",
   "title_sidebar": "Contents",
   "toc_cell": false,
   "toc_position": {},
   "toc_section_display": true,
   "toc_window_display": false
  },
  "varInspector": {
   "cols": {
    "lenName": 16,
    "lenType": 16,
    "lenVar": 40
   },
   "kernels_config": {
    "python": {
     "delete_cmd_postfix": "",
     "delete_cmd_prefix": "del ",
     "library": "var_list.py",
     "varRefreshCmd": "print(var_dic_list())"
    },
    "r": {
     "delete_cmd_postfix": ") ",
     "delete_cmd_prefix": "rm(",
     "library": "var_list.r",
     "varRefreshCmd": "cat(var_dic_list()) "
    }
   },
   "types_to_exclude": [
    "module",
    "function",
    "builtin_function_or_method",
    "instance",
    "_Feature"
   ],
   "window_display": false
  }
 },
 "nbformat": 4,
 "nbformat_minor": 5
}
